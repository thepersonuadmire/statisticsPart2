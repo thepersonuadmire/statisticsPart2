{
  "nbformat": 4,
  "nbformat_minor": 0,
  "metadata": {
    "colab": {
      "provenance": [],
      "toc_visible": true,
      "authorship_tag": "ABX9TyNk23iiR8o/OAc7gtNrxPLI",
      "include_colab_link": true
    },
    "kernelspec": {
      "name": "python3",
      "display_name": "Python 3"
    },
    "language_info": {
      "name": "python"
    }
  },
  "cells": [
    {
      "cell_type": "markdown",
      "metadata": {
        "id": "view-in-github",
        "colab_type": "text"
      },
      "source": [
        "<a href=\"https://colab.research.google.com/github/thepersonuadmire/statisticsPart2/blob/main/StatisticsP2.ipynb\" target=\"_parent\"><img src=\"https://colab.research.google.com/assets/colab-badge.svg\" alt=\"Open In Colab\"/></a>"
      ]
    },
    {
      "cell_type": "markdown",
      "source": [
        "1. What is hypothesis testing in statistics?\n"
      ],
      "metadata": {
        "id": "00zKc-Hx4hWN"
      }
    },
    {
      "cell_type": "markdown",
      "source": [
        "Hypothesis testing is a statistical method used to make decisions or inferences about population parameters based on sample data. It involves proposing a hypothesis and using statistical tests to determine if the hypothesis can be supported or rejected."
      ],
      "metadata": {
        "id": "yRIRSk0_4rVs"
      }
    },
    {
      "cell_type": "markdown",
      "source": [
        "2. What is the null hypothesis, and how does it differ from the alternative hypothesis?\n"
      ],
      "metadata": {
        "id": "D31kCpMS4slv"
      }
    },
    {
      "cell_type": "markdown",
      "source": [
        "The null hypothesis (H₀) is a statement that there is no effect or no difference in a population parameter. The alternative hypothesis (H₁) is the opposite, suggesting that there is a significant effect or difference.\n"
      ],
      "metadata": {
        "id": "LOBgEat345o-"
      }
    },
    {
      "cell_type": "markdown",
      "source": [
        "3. What is the significance level in hypothesis testing, and why is it important?\n"
      ],
      "metadata": {
        "id": "75XwrmCx49km"
      }
    },
    {
      "cell_type": "markdown",
      "source": [
        "The significance level (denoted as α) is the threshold for determining when to reject the null hypothesis. Common values are 0.05 or 0.01, indicating a 5% or 1% risk of rejecting the null hypothesis when it is actually true.\n"
      ],
      "metadata": {
        "id": "YGErmwJn5G9Q"
      }
    },
    {
      "cell_type": "markdown",
      "source": [
        "4. What does a P-value represent in hypothesis testing?\n"
      ],
      "metadata": {
        "id": "22zaKhNe5KJR"
      }
    },
    {
      "cell_type": "markdown",
      "source": [
        "The P-value represents the probability of observing the test statistic or something more extreme, assuming the null hypothesis is true."
      ],
      "metadata": {
        "id": "4AJ_jbM75RFm"
      }
    },
    {
      "cell_type": "markdown",
      "source": [
        "5. How do you interpret the P-value in hypothesis testing?\n",
        "\n",
        "P-value ≤ α: Reject the null hypothesis (significant result).\n",
        "P-value > α: Fail to reject the null hypothesis (not significant)"
      ],
      "metadata": {
        "id": "gSj_9d835UgT"
      }
    },
    {
      "cell_type": "markdown",
      "source": [
        "6. What are Type 1 and Type 2 errors in hypothesis testing?\n",
        "\n",
        "Type 1 Error (False Positive): Rejecting the null hypothesis when it is actually true. The probability of making a Type 1 error is equal to the significance level (α).\n",
        "Type 2 Error (False Negative): Failing to reject the null hypothesis when it is actually false. The probability of making a Type 2 error is denoted as β."
      ],
      "metadata": {
        "id": "g2Du7sZu5YsB"
      }
    },
    {
      "cell_type": "markdown",
      "source": [
        "7. What is the difference between a one-tailed and a two-tailed test in hypothesis testing?\n",
        "\n",
        "One-tailed test: Tests for an effect in only one direction (e.g., greater than or less than).\n",
        "\n",
        "Two-tailed test: Tests for an effect in both directions (e.g., different from a certain value, regardless of direction)."
      ],
      "metadata": {
        "id": "Y9vxTTg85iXL"
      }
    },
    {
      "cell_type": "markdown",
      "source": [
        "8. What is the Z-test, and when is it used in hypothesis testing?\n",
        "\n",
        "The Z-test is used to determine whether there is a significant difference between a sample mean and a population mean when the population variance is known and the sample size is large (n > 30)."
      ],
      "metadata": {
        "id": "ThU6wKu55rCX"
      }
    },
    {
      "cell_type": "markdown",
      "source": [
        "9. How do you calculate the Z-score, and what does it represent in hypothesis testing?\n"
      ],
      "metadata": {
        "id": "JrQ6QcNi5zou"
      }
    },
    {
      "cell_type": "markdown",
      "source": [
        "Definition: The Z-score measures how many standard deviations a sample mean (or individual data point) is from the population mean.\n",
        "\n",
        "Calculation:\n",
        "\n",
        "For a sample mean: [ Z = \\frac{(X - \\mu)}{(s / \\sqrt{n})} ]\n",
        "\n",
        "( X ) = sample mean\n",
        "\n",
        "( \\mu ) = population mean (under the null hypothesis)\n",
        "\n",
        "( s ) = sample standard deviation\n",
        "\n",
        "( n ) = sample size\n",
        "\n",
        "What It Represents:\n",
        "\n",
        "Standardization: It standardizes the difference between the sample mean and the population mean.\n",
        "\n",
        "Distance: Indicates how far the sample mean is from the population mean in terms of standard deviations.\n",
        "\n",
        "Decision Making: Used to determine whether to reject the null hypothesis by comparing the Z-score to critical values or calculating the p-value."
      ],
      "metadata": {
        "id": "D5_p1mwKD7G2"
      }
    },
    {
      "cell_type": "markdown",
      "source": [
        "10. What is the T-distribution, and when should it be used instead of the normal distribution?\n",
        "\n",
        "The T-distribution is used when the sample size is small (n ≤ 30) or when the population standard deviation is unknown. It is similar to the normal distribution but has heavier tails to account for variability in small samples."
      ],
      "metadata": {
        "id": "AGEyuCWw5_fl"
      }
    },
    {
      "cell_type": "markdown",
      "source": [
        "11. What is the difference between a Z-test and a T-test?\n",
        "\n",
        "Z-test: Used when the population variance is known and sample size is large.\n",
        "\n",
        "T-test: Used when the population variance is unknown and sample size is small."
      ],
      "metadata": {
        "id": "T5zHm1Ps7Bzw"
      }
    },
    {
      "cell_type": "markdown",
      "source": [
        "12. What is the T-test, and how is it used in hypothesis testing?\n",
        "\n",
        "The T-test compares the means of two groups to see if there is a statistically significant difference between them. It can be:\n",
        "\n",
        "One-sample T-test\n",
        "\n",
        "Independent two-sample T-test\n",
        "\n",
        "Paired sample T-test"
      ],
      "metadata": {
        "id": "XALYxA0r7M46"
      }
    },
    {
      "cell_type": "markdown",
      "source": [
        "13. What is the relationship between Z-test and T-test in hypothesis testing?\n",
        "\n",
        "Both tests are used to compare sample data to population data or between groups. The Z-test is preferred for larger samples, while the T-test is more suitable for smaller samples."
      ],
      "metadata": {
        "id": "CGEE0ZIL7gEE"
      }
    },
    {
      "cell_type": "markdown",
      "source": [
        "14. What is a confidence interval, and how is it used to interpret statistical results?\n",
        "\n",
        "A confidence interval is a range of values within which the true population parameter is expected to lie, with a certain level of confidence (e.g., 95%). It provides a measure of uncertainty around the sample estimate."
      ],
      "metadata": {
        "id": "mF57B36f7yOx"
      }
    },
    {
      "cell_type": "markdown",
      "source": [
        "15. What is the margin of error, and how does it affect the confidence interval?\n",
        "\n",
        "The margin of error is the range added or subtracted from the sample statistic to create a confidence interval. A larger margin of error means a wider confidence interval, indicating more uncertainty in the estimate."
      ],
      "metadata": {
        "id": "ohTImPyd8BjB"
      }
    },
    {
      "cell_type": "markdown",
      "source": [
        "16. How is Bayes' Theorem used in statistics, and what is its significance?"
      ],
      "metadata": {
        "id": "qUaskq4V8Hpa"
      }
    },
    {
      "cell_type": "markdown",
      "source": [
        "Definition: Bayes' Theorem is a formula used to update the probability of a hypothesis based on new evidence. It relates conditional and marginal probabilities.\n",
        "\n",
        "Formula: [ P(A|B) = \\frac{P(B|A) \\cdot P(A)}{P(B)} ]\n",
        "\n",
        "( P(A|B) ): Probability of event ( A ) given event ( B ) (posterior).\n",
        "\n",
        "( P(B|A) ): Probability of event ( B ) given event ( A ) (likelihood).\n",
        "\n",
        "( P(A) ): Prior probability of event ( A ).\n",
        "\n",
        "( P(B) ): Total probability of event ( B ).\n",
        "\n",
        "Significance\n",
        "\n",
        "Updating Beliefs: Provides a systematic way to revise probabilities with new evidence.\n",
        "\n",
        "Incorporating Prior Knowledge: Allows the use of prior information to improve predictions.\n",
        "\n",
        "Decision Making: Helps quantify uncertainty and make informed choices.\n",
        "Applications: Used in medical diagnosis, machine learning, risk assessment, and more.\n",
        "\n",
        "Bayesian Inference: Forms the basis of Bayesian statistics, offering a flexible approach to data analysis."
      ],
      "metadata": {
        "id": "Np9XHam9EptU"
      }
    },
    {
      "cell_type": "markdown",
      "source": [
        "17. What is the Chi-square distribution, and when is it used?\n",
        "\n",
        "The Chi-square distribution is used to test hypotheses about categorical data. It is used in:\n",
        "\n",
        "Goodness-of-fit tests\n",
        "\n",
        "Tests for independence between variables\n",
        "\n",
        "Tests of homogeneity"
      ],
      "metadata": {
        "id": "ryu5kvIl8P-M"
      }
    },
    {
      "cell_type": "markdown",
      "source": [
        "18. What is the Chi-square goodness of fit test, and how is it applied?"
      ],
      "metadata": {
        "id": "nU0lePtw8c4I"
      }
    },
    {
      "cell_type": "markdown",
      "source": [
        "Definition: The Chi-square goodness of fit test is a statistical method used to determine if the observed frequencies of a categorical variable significantly differ from the expected frequencies based on a specific hypothesis.\n",
        "\n",
        "Purpose\n",
        "\n",
        "1) To assess how well observed data fit a theoretical distribution (e.g., uniform, normal).\n",
        "\n",
        "2) To test hypotheses about the distribution of categorical data.\n",
        "\n",
        "*   Conduct the Test\n",
        "\n",
        "\n",
        "State the Hypotheses:\n",
        "\n",
        "Null Hypothesis ((H_0)): The observed frequencies fit the expected distribution.\n",
        "\n",
        "Alternative Hypothesis ((H_a)): The observed frequencies do not fit the expected distribution.\n",
        "\n",
        "Collect Data: Gather observed frequencies for each category.\n",
        "\n",
        "Calculate Expected Frequencies: Based on the null hypothesis.\n",
        "\n",
        "Compute the Chi-Square Statistic: [ \\chi^2 = \\sum \\frac{(O_i - E_i)^2}{E_i} ] Where ( O_i ) is the observed frequency and ( E_i ) is the expected frequency.\n",
        "\n",
        "Determine Degrees of Freedom: ( df = k - 1 ) (where ( k ) is the number of categories).\n",
        "\n",
        "Compare to Critical Value: Use the Chi-square distribution table to find the critical value at a chosen significance level (e.g., 0.05) and compare it to the calculated Chi-square statistic.\n",
        "\n",
        "Make a Decision: If the Chi-square statistic is greater than the critical value, reject the null hypothesis."
      ],
      "metadata": {
        "id": "Xncrm9HEFP7B"
      }
    },
    {
      "cell_type": "markdown",
      "source": [
        "19. What is the F-distribution, and when is it used in hypothesis testing?\n",
        "\n",
        "The F-distribution is used to compare variances between two populations. It is commonly used in the ANOVA test and F-tests for comparing multiple group variances."
      ],
      "metadata": {
        "id": "l9vhnQP78o4K"
      }
    },
    {
      "cell_type": "markdown",
      "source": [
        "20. What is an ANOVA test, and what are its assumptions?\n",
        "\n",
        "ANOVA (Analysis of Variance) tests whether there are statistically significant differences between the means of three or more groups. Assumptions include:\n",
        "\n",
        "Normal distribution of data\n",
        "\n",
        "Homogeneity of variances\n",
        "\n",
        "Independence of observations"
      ],
      "metadata": {
        "id": "QSfhC-1B8yEu"
      }
    },
    {
      "cell_type": "markdown",
      "source": [
        "21. What are the different types of ANOVA tests?\n",
        "\n",
        "One-way ANOVA: Tests one independent variable with multiple groups.\n",
        "\n",
        "Two-way ANOVA: Tests two independent variables to study interaction effects."
      ],
      "metadata": {
        "id": "16lyoNta89bA"
      }
    },
    {
      "cell_type": "markdown",
      "source": [
        "22. What is the F-test, and how does it relate to hypothesis testing?\n",
        "\n",
        "The F-test compares variances to determine if they are significantly different. It is used in ANOVA and regression analysis to assess model fit."
      ],
      "metadata": {
        "id": "qOVMoCd19EaQ"
      }
    },
    {
      "cell_type": "markdown",
      "source": [
        "***PRACTICAL***"
      ],
      "metadata": {
        "id": "lLMkWxvc9OrG"
      }
    },
    {
      "cell_type": "markdown",
      "source": [
        "1. Write a Python program to perform a Z-test for comparing a sample mean to a known population mean and interpret the results.\n"
      ],
      "metadata": {
        "id": "3K89b4sD9cQ_"
      }
    },
    {
      "cell_type": "code",
      "source": [
        "import numpy as np\n",
        "import scipy.stats as stats\n",
        "\n",
        "# Simulated sample data\n",
        "sample_data = np.random.normal(loc=50, scale=10, size=100)\n",
        "sample_mean = np.mean(sample_data)\n",
        "population_mean = 52\n",
        "population_std = 10\n",
        "n = len(sample_data)\n",
        "\n",
        "# Z-test Calculation\n",
        "z_score = (sample_mean - population_mean) / (population_std / np.sqrt(n))\n",
        "p_value = 2 * (1 - stats.norm.cdf(abs(z_score)))\n",
        "\n",
        "print(f\"Z-score: {z_score}\")\n",
        "print(f\"P-value: {p_value}\")\n"
      ],
      "metadata": {
        "id": "SN4QFHRlBQuV"
      },
      "execution_count": null,
      "outputs": []
    },
    {
      "cell_type": "markdown",
      "source": [
        "2. Simulate random data to perform hypothesis testing and calculate the corresponding P-value using Python.\n",
        "\n"
      ],
      "metadata": {
        "id": "2hKYnimd_Thc"
      }
    },
    {
      "cell_type": "code",
      "source": [
        "# Simulating data (population mean = 50, std = 10)\n",
        "sample_data = np.random.normal(loc=50, scale=10, size=100)\n",
        "\n",
        "# Z-test\n",
        "sample_mean = np.mean(sample_data)\n",
        "z_score = (sample_mean - 50) / (10 / np.sqrt(100))\n",
        "p_value = 2 * (1 - stats.norm.cdf(abs(z_score)))\n",
        "\n",
        "print(f\"Z-score: {z_score}\")\n",
        "print(f\"P-value: {p_value}\")\n"
      ],
      "metadata": {
        "id": "bOv8M1ZcBRHL"
      },
      "execution_count": null,
      "outputs": []
    },
    {
      "cell_type": "markdown",
      "source": [
        "3. Implement a one-sample Z-test using Python to compare the sample mean with the population mean.\n",
        "\n"
      ],
      "metadata": {
        "id": "yTMV6RS9_fFr"
      }
    },
    {
      "cell_type": "code",
      "source": [
        "import numpy as np\n",
        "import scipy.stats as stats\n",
        "\n",
        "# Sample data: Generate random data\n",
        "np.random.seed(42)  # For reproducibility\n",
        "sample_data = np.random.normal(loc=50, scale=10, size=100)\n",
        "\n",
        "# Calculate sample mean\n",
        "sample_mean = np.mean(sample_data)\n",
        "\n",
        "# Given population parameters\n",
        "population_mean = 52\n",
        "population_std = 10\n",
        "n = len(sample_data)\n",
        "\n",
        "# Calculate Z-score\n",
        "z_score = (sample_mean - population_mean) / (population_std / np.sqrt(n))\n",
        "\n",
        "# Calculate P-value (two-tailed test)\n",
        "p_value = 2 * (1 - stats.norm.cdf(abs(z_score)))\n",
        "\n",
        "# Print results\n",
        "print(f\"Sample Mean: {sample_mean:.2f}\")\n",
        "print(f\"Z-score: {z_score:.2f}\")\n",
        "print(f\"P-value: {p_value:.4f}\")\n",
        "\n",
        "# Interpretation\n",
        "if p_value < 0.05:\n",
        "    print(\"Reject the null hypothesis: The sample mean is significantly different from the population mean.\")\n",
        "else:\n",
        "    print(\"Fail to reject the null hypothesis: The sample mean is not significantly different from the population mean.\")\n"
      ],
      "metadata": {
        "id": "giBfnyAQBRb1"
      },
      "execution_count": null,
      "outputs": []
    },
    {
      "cell_type": "markdown",
      "source": [
        "4. Perform a two-tailed Z-test using Python and visualize the decision region on a plot.\n",
        "\n"
      ],
      "metadata": {
        "id": "0Gw2Mt37_jSD"
      }
    },
    {
      "cell_type": "code",
      "source": [
        "import matplotlib.pyplot as plt\n",
        "\n",
        "# Set parameters for two-tailed test\n",
        "alpha = 0.05\n",
        "critical_value = stats.norm.ppf(1 - alpha / 2)\n",
        "\n",
        "# Plot the decision region\n",
        "x = np.linspace(-4, 4, 1000)\n",
        "y = stats.norm.pdf(x)\n",
        "plt.plot(x, y)\n",
        "plt.fill_between(x, y, where=(x <= -critical_value) | (x >= critical_value), color='red', alpha=0.5)\n",
        "plt.title(\"Two-Tailed Z-Test Decision Region\")\n",
        "plt.show()\n"
      ],
      "metadata": {
        "id": "thizN6MRBR4b"
      },
      "execution_count": null,
      "outputs": []
    },
    {
      "cell_type": "markdown",
      "source": [
        "5. Create a Python function that calculates and visualizes Type 1 and Type 2 errors during hypothesis testing.\n",
        "\n"
      ],
      "metadata": {
        "id": "EJ0ScxQL_n3z"
      }
    },
    {
      "cell_type": "code",
      "source": [
        "def visualize_type_errors(sample_mean, population_mean, std, n, alpha=0.05):\n",
        "    z_score_critical = stats.norm.ppf(1 - alpha / 2)\n",
        "    z_score_test = (sample_mean - population_mean) / (std / np.sqrt(n))\n",
        "\n",
        "    # Type 1 Error (False Positive)\n",
        "    type_1_area = stats.norm.cdf(-z_score_critical) + (1 - stats.norm.cdf(z_score_critical))\n",
        "\n",
        "    # Type 2 Error (False Negative)\n",
        "    power = 1 - stats.norm.cdf(z_score_critical - (sample_mean - population_mean) / (std / np.sqrt(n)))\n",
        "    type_2_error = 1 - power\n",
        "\n",
        "    print(f\"Type 1 Error: {type_1_area}\")\n",
        "    print(f\"Type 2 Error: {type_2_error}\")\n",
        "\n",
        "visualize_type_errors(52, 50, 10, 100)\n"
      ],
      "metadata": {
        "id": "9h80_Sr_BSXj"
      },
      "execution_count": null,
      "outputs": []
    },
    {
      "cell_type": "markdown",
      "source": [
        "6. Write a Python program to perform an independent T-test and interpret the results.\n",
        "\n"
      ],
      "metadata": {
        "id": "PYqwouzw_40c"
      }
    },
    {
      "cell_type": "code",
      "source": [
        "# Simulate data for two independent samples\n",
        "sample_1 = np.random.normal(50, 10, 100)\n",
        "sample_2 = np.random.normal(52, 10, 100)\n",
        "\n",
        "t_stat, p_value = stats.ttest_ind(sample_1, sample_2)\n",
        "print(f\"T-statistic: {t_stat}\")\n",
        "print(f\"P-value: {p_value}\")\n"
      ],
      "metadata": {
        "id": "WIhIC3S7BSzF"
      },
      "execution_count": null,
      "outputs": []
    },
    {
      "cell_type": "markdown",
      "source": [
        "7. Perform a paired sample T-test using Python and visualize the comparison results.\n",
        "\n"
      ],
      "metadata": {
        "id": "liFCrynX_835"
      }
    },
    {
      "cell_type": "code",
      "source": [
        "# Paired sample data\n",
        "sample_1 = np.random.normal(50, 10, 100)\n",
        "sample_2 = sample_1 + np.random.normal(2, 5, 100)\n",
        "\n",
        "t_stat, p_value = stats.ttest_rel(sample_1, sample_2)\n",
        "print(f\"T-statistic: {t_stat}\")\n",
        "print(f\"P-value: {p_value}\")\n"
      ],
      "metadata": {
        "id": "1uvELqW-BTNF"
      },
      "execution_count": null,
      "outputs": []
    },
    {
      "cell_type": "markdown",
      "source": [
        "8. Simulate data and perform both Z-test and T-test, then compare the results using Python.\n",
        "\n"
      ],
      "metadata": {
        "id": "WuutueUw__8H"
      }
    },
    {
      "cell_type": "code",
      "source": [
        "# Generate data\n",
        "sample_data = np.random.normal(50, 10, 100)\n",
        "\n",
        "# Z-test\n",
        "z_score = (np.mean(sample_data) - 50) / (10 / np.sqrt(100))\n",
        "p_value_z = 2 * (1 - stats.norm.cdf(abs(z_score)))\n",
        "\n",
        "# T-test\n",
        "t_stat, p_value_t = stats.ttest_1samp(sample_data, 50)\n",
        "\n",
        "print(f\"Z-test P-value: {p_value_z}\")\n",
        "print(f\"T-test P-value: {p_value_t}\")\n"
      ],
      "metadata": {
        "id": "LAG4NfG_BTrj"
      },
      "execution_count": null,
      "outputs": []
    },
    {
      "cell_type": "markdown",
      "source": [
        "9. Write a Python function to calculate the confidence interval for a sample mean and explain its significance.\n",
        "\n"
      ],
      "metadata": {
        "id": "LzKAnmV3AF2Z"
      }
    },
    {
      "cell_type": "code",
      "source": [
        "def confidence_interval(sample_data, confidence=0.95):\n",
        "    sample_mean = np.mean(sample_data)\n",
        "    sample_std = np.std(sample_data)\n",
        "    n = len(sample_data)\n",
        "    z_score = stats.norm.ppf((1 + confidence) / 2)\n",
        "    margin_of_error = z_score * (sample_std / np.sqrt(n))\n",
        "    return (sample_mean - margin_of_error, sample_mean + margin_of_error)\n",
        "\n",
        "sample_data = np.random.normal(50, 10, 100)\n",
        "ci = confidence_interval(sample_data)\n",
        "print(f\"Confidence Interval: {ci}\")\n"
      ],
      "metadata": {
        "id": "eyhjdKB_BUZ7"
      },
      "execution_count": null,
      "outputs": []
    },
    {
      "cell_type": "markdown",
      "source": [
        "10. Write a Python program to calculate the margin of error for a given confidence level using sample data.\n"
      ],
      "metadata": {
        "id": "9aN6rWqsAMrT"
      }
    },
    {
      "cell_type": "code",
      "source": [
        "def margin_of_error(sample_data, confidence=0.95):\n",
        "    sample_mean = np.mean(sample_data)\n",
        "    sample_std = np.std(sample_data)\n",
        "    n = len(sample_data)\n",
        "    z_score = stats.norm.ppf((1 + confidence) / 2)\n",
        "    return z_score * (sample_std / np.sqrt(n))\n",
        "\n",
        "sample_data = np.random.normal(50, 10, 100)\n",
        "margin_error = margin_of_error(sample_data)\n",
        "print(f\"Margin of Error: {margin_error}\")\n"
      ],
      "metadata": {
        "id": "BuisOnbVBU4X"
      },
      "execution_count": null,
      "outputs": []
    },
    {
      "cell_type": "markdown",
      "source": [
        "11. Implement a Bayesian inference method using Bayes' Theorem in Python and explain the process.\n",
        "\n"
      ],
      "metadata": {
        "id": "6tuhF24jATC4"
      }
    },
    {
      "cell_type": "code",
      "source": [
        "def bayes_theorem(prior, likelihood, evidence):\n",
        "    return (likelihood * prior) / evidence\n",
        "\n",
        "# Example with prior, likelihood, and evidence\n",
        "prior = 0.5\n",
        "likelihood = 0.7\n",
        "evidence = 0.6\n",
        "\n",
        "posterior = bayes_theorem(prior, likelihood, evidence)\n",
        "print(f\"Posterior Probability: {posterior}\")\n"
      ],
      "metadata": {
        "id": "luh4sQ3WBVVP"
      },
      "execution_count": null,
      "outputs": []
    },
    {
      "cell_type": "markdown",
      "source": [
        "12. Perform a Chi-square test for independence between two categorical variables in Python.\n",
        "\n"
      ],
      "metadata": {
        "id": "Aw-mveCtAbmn"
      }
    },
    {
      "cell_type": "code",
      "source": [
        "# Simulated contingency table\n",
        "observed = np.array([[30, 10], [20, 40]])\n",
        "\n",
        "chi2_stat, p_value, dof, expected = stats.chi2_contingency(observed)\n",
        "print(f\"Chi2 Statistic: {chi2_stat}\")\n",
        "print(f\"P-value: {p_value}\")\n",
        "print(f\"Degrees of Freedom: {dof}\")\n",
        "print(f\"Expected Frequencies: {expected}\")\n"
      ],
      "metadata": {
        "id": "5S_1JGYVBV6V"
      },
      "execution_count": null,
      "outputs": []
    },
    {
      "cell_type": "markdown",
      "source": [
        "13. Write a Python program to calculate the expected frequencies for a Chi-square test based on observed data.\n",
        "\n"
      ],
      "metadata": {
        "id": "FlT58kRqAekL"
      }
    },
    {
      "cell_type": "code",
      "source": [
        "observed = np.array([[30, 10], [20, 40]])\n",
        "chi2_stat, p_value, dof, expected = stats.chi2_contingency(observed)\n",
        "print(f\"Expected Frequencies: \\n{expected}\")\n"
      ],
      "metadata": {
        "id": "YLwKZi3oBWUf"
      },
      "execution_count": null,
      "outputs": []
    },
    {
      "cell_type": "markdown",
      "source": [
        "14. Perform a goodness-of-fit test using Python to compare the observed data to an expected distribution.\n",
        "\n"
      ],
      "metadata": {
        "id": "vovTI6U3AhkD"
      }
    },
    {
      "cell_type": "code",
      "source": [
        "observed = np.array([50, 30, 20])\n",
        "expected = np.array([40, 40, 20])\n",
        "\n",
        "chi2_stat, p_value = stats.chisquare(observed, expected)\n",
        "print(f\"Chi2 Statistic: {chi2_stat}\")\n",
        "print(f\"P-value: {p_value}\")\n"
      ],
      "metadata": {
        "id": "9MV2Et-RBWwj"
      },
      "execution_count": null,
      "outputs": []
    },
    {
      "cell_type": "markdown",
      "source": [
        "15. Create a Python script to simulate and visualize the Chi-square distribution and discuss its characteristics.\n",
        "\n"
      ],
      "metadata": {
        "id": "YExt7H6pAmav"
      }
    },
    {
      "cell_type": "code",
      "source": [
        "x = np.linspace(0, 20, 1000)\n",
        "y = stats.chi2.pdf(x, df=2)\n",
        "\n",
        "plt.plot(x, y)\n",
        "plt.title(\"Chi-Square Distribution\")\n",
        "plt.show()\n"
      ],
      "metadata": {
        "id": "zBo09AJJBXL3"
      },
      "execution_count": null,
      "outputs": []
    },
    {
      "cell_type": "markdown",
      "source": [
        "16. Implement an F-test using Python to compare the variances of two random samples.\n",
        "\n"
      ],
      "metadata": {
        "id": "snlMvmFaAqn7"
      }
    },
    {
      "cell_type": "code",
      "source": [
        "sample_1 = np.random.normal(50, 10, 100)\n",
        "sample_2 = np.random.normal(55, 12, 100)\n",
        "\n",
        "f_stat = np.var(sample_1) / np.var(sample_2)\n",
        "p_value = 1 - stats.f.cdf(f_stat, len(sample_1)-1, len(sample_2)-1)\n",
        "\n",
        "print(f\"F-statistic: {f_stat}\")\n",
        "print(f\"P-value: {p_value}\")\n"
      ],
      "metadata": {
        "id": "-4QAhyX3BXy_"
      },
      "execution_count": null,
      "outputs": []
    },
    {
      "cell_type": "markdown",
      "source": [
        "17. Write a Python program to perform an ANOVA test to compare means between multiple groups and interpret the results.\n",
        "\n"
      ],
      "metadata": {
        "id": "yZRFZhz0AtEp"
      }
    },
    {
      "cell_type": "code",
      "source": [
        "group_1 = np.random.normal(50, 10, 100)\n",
        "group_2 = np.random.normal(55, 10, 100)\n",
        "group_3 = np.random.normal(60, 10, 100)\n",
        "\n",
        "f_stat, p_value = stats.f_oneway(group_1, group_2, group_3)\n",
        "print(f\"F-statistic: {f_stat}\")\n",
        "print(f\"P-value: {p_value}\")\n"
      ],
      "metadata": {
        "id": "W60_lIo4BYXP"
      },
      "execution_count": null,
      "outputs": []
    },
    {
      "cell_type": "markdown",
      "source": [
        "18. Perform a one-way ANOVA test using Python to compare the means of different groups and plot the results.\n",
        "\n"
      ],
      "metadata": {
        "id": "W_kytQVhAyLt"
      }
    },
    {
      "cell_type": "code",
      "source": [
        "import seaborn as sns\n",
        "\n",
        "group_1 = np.random.normal(50, 10, 100)\n",
        "group_2 = np.random.normal(55, 10, 100)\n",
        "group_3 = np.random.normal(60, 10, 100)\n",
        "\n",
        "sns.boxplot(data=[group_1, group_2, group_3])\n",
        "plt.title(\"One-Way ANOVA with Boxplot\")\n",
        "plt.show()\n"
      ],
      "metadata": {
        "id": "DtqKExOBBY2r"
      },
      "execution_count": null,
      "outputs": []
    },
    {
      "cell_type": "markdown",
      "source": [
        "19. Write a Python function to check the assumptions (normality, independence, and equal variance) for ANOVA.\n",
        "\n"
      ],
      "metadata": {
        "id": "0mZECBMEA5cV"
      }
    },
    {
      "cell_type": "code",
      "source": [
        "from scipy.stats import normaltest, levene\n",
        "\n",
        "def check_anova_assumptions(data_groups):\n",
        "    for group in data_groups:\n",
        "        stat, p_value = normaltest(group)\n",
        "        print(f\"Normality Test P-value: {p_value}\")\n",
        "\n",
        "    stat, p_value = levene(*data_groups)\n",
        "    print(f\"Levene's Test P-value for Equal Variance: {p_value}\")\n",
        "\n",
        "check_anova_assumptions([group_1, group_2, group_3])\n"
      ],
      "metadata": {
        "id": "YjKq3DvDBZan"
      },
      "execution_count": null,
      "outputs": []
    },
    {
      "cell_type": "markdown",
      "source": [
        "20. Perform a two-way ANOVA test using Python to study the interaction between two factors and visualize the results.\n",
        "\n"
      ],
      "metadata": {
        "id": "5Qr_yX-PA8H7"
      }
    },
    {
      "cell_type": "code",
      "source": [
        "import statsmodels.api as sm\n",
        "from statsmodels.formula.api import ols\n",
        "\n",
        "data = {'Score': np.concatenate([group_1, group_2, group_3]),\n",
        "        'Group': ['Group 1']*100 + ['Group 2']*100 + ['Group 3']*100,\n",
        "        'Gender': ['Male']*50 + ['Female']*50 + ['Male']*50 + ['Female']*50 + ['Male']*50 + ['Female']*50}\n",
        "\n",
        "df = pd.DataFrame(data)\n",
        "model = ols('Score ~ C(Group) + C(Gender) + C(Group):C(Gender)', data=df).fit()\n",
        "anova_table = sm.stats.anova_lm(model, typ=2)\n",
        "print(anova_table)\n"
      ],
      "metadata": {
        "id": "Hm8lK8-bBZ9v"
      },
      "execution_count": null,
      "outputs": []
    },
    {
      "cell_type": "markdown",
      "source": [
        "21. Write a Python program to visualize the F-distribution and discuss its use in hypothesis testing.\n",
        "\n"
      ],
      "metadata": {
        "id": "DYUWFOMoA_r9"
      }
    },
    {
      "cell_type": "code",
      "source": [
        "x = np.linspace(0, 5, 1000)\n",
        "y = stats.f.pdf(x, dfn=2, dfd=3)\n",
        "\n",
        "plt.plot(x, y)\n",
        "plt.title(\"F-distribution\")\n",
        "plt.show()\n"
      ],
      "metadata": {
        "id": "zZ_upAcPBaeu"
      },
      "execution_count": null,
      "outputs": []
    },
    {
      "cell_type": "markdown",
      "source": [
        "22. Perform a one-way ANOVA test in Python and visualize the results with boxplots to compare group means.\n",
        "\n"
      ],
      "metadata": {
        "id": "VzaKB-y1BB-2"
      }
    },
    {
      "cell_type": "code",
      "source": [
        "sns.boxplot(data=[group_1, group_2, group_3])\n",
        "plt.title(\"One-Way ANOVA\")\n",
        "plt.show()\n"
      ],
      "metadata": {
        "id": "BjeWOLHqBa9_"
      },
      "execution_count": null,
      "outputs": []
    },
    {
      "cell_type": "markdown",
      "source": [
        "23. Simulate random data from a normal distribution, then perform hypothesis testing to evaluate the means.\n",
        "\n"
      ],
      "metadata": {
        "id": "CBfiLJfIBFCh"
      }
    },
    {
      "cell_type": "code",
      "source": [
        "sample_data = np.random.normal(50, 10, 100)\n",
        "z_score = (np.mean(sample_data) - 50) / (10 / np.sqrt(100))\n",
        "p_value = 2 * (1 - stats.norm.cdf(abs(z_score)))\n",
        "print(f\"P-value: {p_value}\")\n"
      ],
      "metadata": {
        "id": "87yT9wmrBbq9"
      },
      "execution_count": null,
      "outputs": []
    },
    {
      "cell_type": "markdown",
      "source": [
        "24. Perform a hypothesis test for population variance using a Chi-square distribution and interpret the results.\n"
      ],
      "metadata": {
        "id": "LT1DCGH9BHYF"
      }
    },
    {
      "cell_type": "code",
      "source": [
        "observed_variance = np.var(sample_data)\n",
        "chi2_stat = (len(sample_data) - 1) * observed_variance / (population_variance)\n",
        "p_value = 1 - stats.chi2.cdf(chi2_stat, len(sample_data)-1)\n",
        "\n",
        "print(f\"Chi2 Statistic: {chi2_stat}\")\n",
        "print(f\"P-value: {p_value}\")\n"
      ],
      "metadata": {
        "id": "UmvBLYAtBcS3"
      },
      "execution_count": null,
      "outputs": []
    },
    {
      "cell_type": "markdown",
      "source": [
        "\n",
        "25. Write a Python script to perform a Z-test for comparing proportions between two datasets or groups.\n",
        "\n"
      ],
      "metadata": {
        "id": "4fjY4F3aBJUj"
      }
    },
    {
      "cell_type": "code",
      "source": [
        "success_1 = 200\n",
        "total_1 = 500\n",
        "success_2 = 180\n",
        "total_2 = 500\n",
        "\n",
        "p1 = success_1 / total_1\n",
        "p2 = success_2 / total_2\n",
        "pooled_p = (success_1 + success_2) / (total_1 + total_2)\n",
        "\n",
        "z_score = (p1 - p2) / np.sqrt(pooled_p * (1 - pooled_p) * (1/total_1 + 1/total_2))\n",
        "p_value = 2 * (1 - stats.norm.cdf(abs(z_score)))\n",
        "\n",
        "print(f\"Z-score: {z_score}\")\n",
        "print(f\"P-value: {p_value}\")"
      ],
      "metadata": {
        "id": "qYRf2fomBcxQ"
      },
      "execution_count": null,
      "outputs": []
    },
    {
      "cell_type": "markdown",
      "source": [
        "26. Implement an F-test for comparing the variances of two datasets, then interpret and visualize the results.\n"
      ],
      "metadata": {
        "id": "_t3CjyYtBLdc"
      }
    },
    {
      "cell_type": "code",
      "source": [
        "f_stat = np.var(sample_1) / np.var(sample_2)\n",
        "p_value = 1 - stats.f.cdf(f_stat, len(sample_1)-1, len(sample_2)-1)\n",
        "print(f\"F-statistic: {f_stat}\")\n",
        "print(f\"P-value: {p_value}\")\n"
      ],
      "metadata": {
        "id": "YoS5eWI0BdYU"
      },
      "execution_count": null,
      "outputs": []
    },
    {
      "cell_type": "markdown",
      "source": [
        "\n",
        "27. Perform a Chi-square test for goodness of fit with simulated data and analyze the results."
      ],
      "metadata": {
        "id": "gPWxI90zBNj_"
      }
    },
    {
      "cell_type": "code",
      "source": [
        "observed = np.array([50, 30, 20])\n",
        "expected = np.array([40, 40, 20])\n",
        "\n",
        "chi2_stat, p_value = stats.chisquare(observed, expected)\n",
        "print(f\"Chi2 Statistic: {chi2_stat}\")\n",
        "print(f\"P-value: {p_value}\")\n"
      ],
      "metadata": {
        "id": "YaaEGiN4Bdt6"
      },
      "execution_count": null,
      "outputs": []
    }
  ]
}